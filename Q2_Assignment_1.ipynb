{
  "nbformat": 4,
  "nbformat_minor": 0,
  "metadata": {
    "colab": {
      "name": "Q2 Assignment 1.ipynb",
      "provenance": [],
      "collapsed_sections": [],
      "authorship_tag": "ABX9TyO18WYAysKEygNqsdmlJPSZ",
      "include_colab_link": true
    },
    "kernelspec": {
      "display_name": "Python 3",
      "name": "python3"
    }
  },
  "cells": [
    {
      "cell_type": "markdown",
      "metadata": {
        "id": "view-in-github",
        "colab_type": "text"
      },
      "source": [
        "<a href=\"https://colab.research.google.com/github/zsabro/PIAIC_ISLAMABAD_BATCH3/blob/master/Q2_Assignment_1.ipynb\" target=\"_parent\"><img src=\"https://colab.research.google.com/assets/colab-badge.svg\" alt=\"Open In Colab\"/></a>"
      ]
    },
    {
      "cell_type": "markdown",
      "metadata": {
        "id": "ZKePpq3qp75A"
      },
      "source": [
        "# Assighment 1 : 50 Numpy functions"
      ]
    },
    {
      "cell_type": "code",
      "metadata": {
        "id": "jG-UiO7spwlw"
      },
      "source": [
        "import numpy as np"
      ],
      "execution_count": null,
      "outputs": []
    },
    {
      "cell_type": "markdown",
      "metadata": {
        "id": "WJb7DrIqr0_J"
      },
      "source": [
        "# 1. Creating Simple array through array function"
      ]
    },
    {
      "cell_type": "code",
      "metadata": {
        "id": "zzUH0U06sNO8"
      },
      "source": [
        "a = np.array([1,2,3,4,5])\r\n",
        "\r\n"
      ],
      "execution_count": null,
      "outputs": []
    },
    {
      "cell_type": "markdown",
      "metadata": {
        "id": "RWkoRmwQvTcz"
      },
      "source": [
        "2. Creating an array by a numpy function"
      ]
    },
    {
      "cell_type": "code",
      "metadata": {
        "colab": {
          "base_uri": "https://localhost:8080/"
        },
        "id": "36lvNpetvcOC",
        "outputId": "fbd47cf9-8d6e-4625-f8e9-e4656ee945a8"
      },
      "source": [
        "import numpy as np\r\n",
        "\r\n",
        "a = np.arange(6)\r\n",
        "print(a)"
      ],
      "execution_count": null,
      "outputs": [
        {
          "output_type": "stream",
          "text": [
            "[0 1 2 3 4 5]\n"
          ],
          "name": "stdout"
        }
      ]
    },
    {
      "cell_type": "markdown",
      "metadata": {
        "id": "MKy3Rgp3gjEP"
      },
      "source": [
        "3. Creating multi dimensional array"
      ]
    },
    {
      "cell_type": "code",
      "metadata": {
        "colab": {
          "base_uri": "https://localhost:8080/"
        },
        "id": "GPkv_RyNguxM",
        "outputId": "645739b2-f42b-4f09-80e3-397cb24fa51c"
      },
      "source": [
        "b = np.arange(15).reshape(3,5)\r\n",
        "print(b)"
      ],
      "execution_count": null,
      "outputs": [
        {
          "output_type": "stream",
          "text": [
            "[[ 0  1  2  3  4]\n",
            " [ 5  6  7  8  9]\n",
            " [10 11 12 13 14]]\n"
          ],
          "name": "stdout"
        }
      ]
    },
    {
      "cell_type": "markdown",
      "metadata": {
        "id": "koft7i4Eh_4i"
      },
      "source": [
        "4. finding array dimensions"
      ]
    },
    {
      "cell_type": "code",
      "metadata": {
        "colab": {
          "base_uri": "https://localhost:8080/"
        },
        "id": "POXZroM2h7A9",
        "outputId": "14b33ccc-a9ec-48c5-b128-fad63c1263f1"
      },
      "source": [
        "b.ndim"
      ],
      "execution_count": null,
      "outputs": [
        {
          "output_type": "execute_result",
          "data": {
            "text/plain": [
              "2"
            ]
          },
          "metadata": {
            "tags": []
          },
          "execution_count": 15
        }
      ]
    },
    {
      "cell_type": "markdown",
      "metadata": {
        "id": "kWqLJ7lEiH9w"
      },
      "source": [
        "5. Finding shape of an array"
      ]
    },
    {
      "cell_type": "code",
      "metadata": {
        "colab": {
          "base_uri": "https://localhost:8080/"
        },
        "id": "zsLe3_fUiQIe",
        "outputId": "1cec9e1a-3ca3-4713-d794-8cffd9dd280a"
      },
      "source": [
        "b.shape"
      ],
      "execution_count": null,
      "outputs": [
        {
          "output_type": "execute_result",
          "data": {
            "text/plain": [
              "(3, 5)"
            ]
          },
          "metadata": {
            "tags": []
          },
          "execution_count": 16
        }
      ]
    },
    {
      "cell_type": "markdown",
      "metadata": {
        "id": "4VlqKxLqiVfH"
      },
      "source": [
        "6. finding data type of an array"
      ]
    },
    {
      "cell_type": "code",
      "metadata": {
        "colab": {
          "base_uri": "https://localhost:8080/"
        },
        "id": "BfcKBtSaicQJ",
        "outputId": "281646b8-3958-4f5f-d6ee-156b0acd9823"
      },
      "source": [
        "b.dtype"
      ],
      "execution_count": null,
      "outputs": [
        {
          "output_type": "execute_result",
          "data": {
            "text/plain": [
              "dtype('int64')"
            ]
          },
          "metadata": {
            "tags": []
          },
          "execution_count": 17
        }
      ]
    },
    {
      "cell_type": "markdown",
      "metadata": {
        "id": "4a4FklTziqb-"
      },
      "source": [
        "7. Finding buffer size of an array"
      ]
    },
    {
      "cell_type": "code",
      "metadata": {
        "colab": {
          "base_uri": "https://localhost:8080/"
        },
        "id": "wwz2Xrb9i0IY",
        "outputId": "8e92134f-9345-4deb-d8ea-d0603296613f"
      },
      "source": [
        "b.data"
      ],
      "execution_count": null,
      "outputs": [
        {
          "output_type": "execute_result",
          "data": {
            "text/plain": [
              "<memory at 0x7fa6d2670480>"
            ]
          },
          "metadata": {
            "tags": []
          },
          "execution_count": 18
        }
      ]
    },
    {
      "cell_type": "markdown",
      "metadata": {
        "id": "rL8m-y1Qs4z4"
      },
      "source": [
        "8. Making sequence of sequences"
      ]
    },
    {
      "cell_type": "code",
      "metadata": {
        "colab": {
          "base_uri": "https://localhost:8080/"
        },
        "id": "R6i2ji5ctBJT",
        "outputId": "e00685d7-a0fd-49a1-84c2-bff79ce6510e"
      },
      "source": [
        "c = np.array([(1,2,3,4,5), (6,7,8,9,0)])\r\n",
        "c\r\n",
        "print(c)"
      ],
      "execution_count": null,
      "outputs": [
        {
          "output_type": "stream",
          "text": [
            "[[1 2 3 4 5]\n",
            " [6 7 8 9 0]]\n"
          ],
          "name": "stdout"
        }
      ]
    },
    {
      "cell_type": "markdown",
      "metadata": {
        "id": "W7MdQk2euK8w"
      },
      "source": [
        "# 9. Creating array where arrays are unknown but size is known"
      ]
    },
    {
      "cell_type": "code",
      "metadata": {
        "colab": {
          "base_uri": "https://localhost:8080/"
        },
        "id": "9DGYItvqtuZC",
        "outputId": "8c1ad09b-6ddc-4f81-eea7-69b2f67280b5"
      },
      "source": [
        "d = np.zeros((2,3,3))\r\n",
        "print(d)\r\n",
        "\r\n",
        "e = np.ones((2,3,4))\r\n",
        "e"
      ],
      "execution_count": null,
      "outputs": [
        {
          "output_type": "stream",
          "text": [
            "[[[0. 0. 0.]\n",
            "  [0. 0. 0.]\n",
            "  [0. 0. 0.]]\n",
            "\n",
            " [[0. 0. 0.]\n",
            "  [0. 0. 0.]\n",
            "  [0. 0. 0.]]]\n"
          ],
          "name": "stdout"
        },
        {
          "output_type": "execute_result",
          "data": {
            "text/plain": [
              "array([[[1., 1., 1., 1.],\n",
              "        [1., 1., 1., 1.],\n",
              "        [1., 1., 1., 1.]],\n",
              "\n",
              "       [[1., 1., 1., 1.],\n",
              "        [1., 1., 1., 1.],\n",
              "        [1., 1., 1., 1.]]])"
            ]
          },
          "metadata": {
            "tags": []
          },
          "execution_count": 29
        }
      ]
    },
    {
      "cell_type": "markdown",
      "metadata": {
        "id": "QzzkEclNulsu"
      },
      "source": [
        "10. To create series of numbers"
      ]
    },
    {
      "cell_type": "code",
      "metadata": {
        "colab": {
          "base_uri": "https://localhost:8080/"
        },
        "id": "i8Mt4PpyuuZE",
        "outputId": "a1808b64-5a0a-4a13-97cb-ba12b26afd69"
      },
      "source": [
        "f = np.arange(1, 10, 2)\r\n",
        "f\r\n",
        "print(f)\r\n",
        "g = np.arange(2, 6, 0.3)\r\n",
        "g"
      ],
      "execution_count": null,
      "outputs": [
        {
          "output_type": "stream",
          "text": [
            "[1 3 5 7 9]\n"
          ],
          "name": "stdout"
        },
        {
          "output_type": "execute_result",
          "data": {
            "text/plain": [
              "array([2. , 2.3, 2.6, 2.9, 3.2, 3.5, 3.8, 4.1, 4.4, 4.7, 5. , 5.3, 5.6,\n",
              "       5.9])"
            ]
          },
          "metadata": {
            "tags": []
          },
          "execution_count": 32
        }
      ]
    },
    {
      "cell_type": "markdown",
      "metadata": {
        "id": "afVV6lKWwCpY"
      },
      "source": [
        "11. Using linespace function to create an array of equally distributed  float"
      ]
    },
    {
      "cell_type": "code",
      "metadata": {
        "colab": {
          "base_uri": "https://localhost:8080/"
        },
        "id": "_F853uozwG7v",
        "outputId": "453ce8e5-a958-4966-a585-32738868df3b"
      },
      "source": [
        "from numpy import pi\r\n",
        "h = np.linspace(1, 10, 9)\r\n",
        "print(h)"
      ],
      "execution_count": null,
      "outputs": [
        {
          "output_type": "stream",
          "text": [
            "[ 1.     2.125  3.25   4.375  5.5    6.625  7.75   8.875 10.   ]\n"
          ],
          "name": "stdout"
        }
      ]
    },
    {
      "cell_type": "markdown",
      "metadata": {
        "id": "FVx_O47q1frM"
      },
      "source": [
        "12. Operation through operators"
      ]
    },
    {
      "cell_type": "code",
      "metadata": {
        "colab": {
          "base_uri": "https://localhost:8080/"
        },
        "id": "KH2mfyeK1nhC",
        "outputId": "f212096c-2062-4c2c-850d-f68e533ceb35"
      },
      "source": [
        "import numpy as np\r\n",
        "\r\n",
        "i = np.array([2,4,8,6,10])\r\n",
        "j = np.arange(5)\r\n",
        "k = i - j\r\n",
        "print(k)\r\n",
        "l = i**3\r\n",
        "print(l)\r\n",
        "\r\n"
      ],
      "execution_count": 3,
      "outputs": [
        {
          "output_type": "stream",
          "text": [
            "[2 3 6 3 6]\n",
            "[   8   64  512  216 1000]\n"
          ],
          "name": "stdout"
        }
      ]
    },
    {
      "cell_type": "markdown",
      "metadata": {
        "id": "sGarx2rXKJh7"
      },
      "source": [
        "13. to check whether all elements in an array correspondence to true"
      ]
    },
    {
      "cell_type": "code",
      "metadata": {
        "colab": {
          "base_uri": "https://localhost:8080/"
        },
        "id": "BiKJ7MR8KSHX",
        "outputId": "16fb62d6-5e3b-4b91-8a02-3a7a170a5f4f"
      },
      "source": [
        "np.all([3,2,1,0])\r\n",
        "\r\n",
        "np.all([32, 0.5, -3])"
      ],
      "execution_count": 6,
      "outputs": [
        {
          "output_type": "execute_result",
          "data": {
            "text/plain": [
              "True"
            ]
          },
          "metadata": {
            "tags": []
          },
          "execution_count": 6
        }
      ]
    },
    {
      "cell_type": "markdown",
      "metadata": {
        "id": "Z0EwIYWML-My"
      },
      "source": [
        "reshape an array"
      ]
    },
    {
      "cell_type": "code",
      "metadata": {
        "colab": {
          "base_uri": "https://localhost:8080/"
        },
        "id": "9LgVJUjIMCt7",
        "outputId": "b7fe7102-42e6-4385-acc8-50f186843770"
      },
      "source": [
        "x = np.array([[1,2,3],\r\n",
        "              [4,5,6],\r\n",
        "              [7,8,9]])\r\n",
        "print(x)\r\n",
        "y = x.resize((3,2))\r\n",
        "print(y)"
      ],
      "execution_count": 28,
      "outputs": [
        {
          "output_type": "stream",
          "text": [
            "[[1 2 3]\n",
            " [4 5 6]\n",
            " [7 8 9]]\n",
            "None\n"
          ],
          "name": "stdout"
        }
      ]
    }
  ]
}